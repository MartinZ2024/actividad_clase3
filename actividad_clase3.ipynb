{
 "cells": [
  {
   "cell_type": "markdown",
   "metadata": {},
   "source": [
    "## Ejercicios clase 3\n",
    "### Se realizaran ejercicios de datos simples y datos complejos"
   ]
  },
  {
   "cell_type": "markdown",
   "metadata": {},
   "source": [
    "1.1 Datos simples\n",
    "\tCrear una lista de nombres de ciudades.\n",
    "\tCrear un diccionario con información de empleados (nombre, cargo, salario).\n",
    "\tMostrar cómo acceder a un elemento específico en una lista y en un diccionario\n"
   ]
  },
  {
   "cell_type": "code",
   "execution_count": 12,
   "metadata": {},
   "outputs": [],
   "source": [
    "ciudades=[\"Rio Grande\",\"Ushuaia\",\"Bariloche\"]"
   ]
  },
  {
   "cell_type": "code",
   "execution_count": 5,
   "metadata": {},
   "outputs": [],
   "source": [
    "dic_empl={\"Juan\":[\"Cadete\",120],\n",
    "          \"Carlos\":[\"Contador\",220],\n",
    "          \"Ana\":[\"Jefe\",250]}"
   ]
  },
  {
   "cell_type": "code",
   "execution_count": 15,
   "metadata": {},
   "outputs": [
    {
     "name": "stdout",
     "output_type": "stream",
     "text": [
      "Primer ciudad: Rio Grande\n",
      "Sueldo Carlos: 220\n"
     ]
    }
   ],
   "source": [
    "print(\"Primer ciudad:\",ciudades[0])\n",
    "print(\"Sueldo Carlos:\",dic_empl[\"Carlos\"][1])"
   ]
  },
  {
   "cell_type": "markdown",
   "metadata": {},
   "source": [
    "1.2\tManipulación de Listas y Métodos\n",
    "\tCrea una lista inicial de números enteros.\n",
    "\tUtiliza el método .append() para agregar un número al final de la lista.\n",
    "\tUtiliza el método .extend() para agregar múltiples elementos a la lista.\n",
    "\tUtiliza el método .insert() para insertar un número en una posición específica de la lista.\n",
    "\tMuestra cómo utilizar el método .sort() para ordenar la lista de números de forma ascendente.\n"
   ]
  },
  {
   "cell_type": "code",
   "execution_count": 21,
   "metadata": {},
   "outputs": [
    {
     "name": "stdout",
     "output_type": "stream",
     "text": [
      "[1, 2, 3]\n",
      "[1, 2, 3, 4]\n",
      "[1, 2, 3, 4, 5, 6, 7]\n",
      "[1, 2, 3, 88, 4, 5, 6, 7]\n",
      "[1, 2, 3, 4, 5, 6, 7, 88]\n"
     ]
    }
   ],
   "source": [
    "num_ent=[1,2,3]\n",
    "print(num_ent)\n",
    "num_ent.append(4)\n",
    "print(num_ent)\n",
    "num_ent_2=[5,6,7]\n",
    "num_ent.extend(num_ent_2)\n",
    "print(num_ent)\n",
    "num_ent.insert(3,88)\n",
    "print(num_ent)\n",
    "num_ent.sort()\n",
    "print(num_ent)"
   ]
  },
  {
   "cell_type": "markdown",
   "metadata": {},
   "source": [
    "1.3 Manipulación de Diccionarios y Métodos:\n",
    "\tCrea un diccionario con información de productos (nombre del producto, precio, cantidad en stock).\n",
    "\tUtiliza el método .keys() para obtener una lista de las llaves (nombres de productos) en el diccionario.\n",
    "\tUtiliza el método .values() para obtener una lista de los valores (precios y cantidades) en el diccionario.\n",
    "\tUtiliza el método .items() para obtener una lista de tuplas con pares clave-valor del diccionario.\n",
    "\tMuestra cómo utilizar el método .get() para obtener el precio de un producto específico del diccionario.\n"
   ]
  },
  {
   "cell_type": "code",
   "execution_count": 42,
   "metadata": {},
   "outputs": [
    {
     "name": "stdout",
     "output_type": "stream",
     "text": [
      "1.6\n"
     ]
    }
   ],
   "source": [
    "dic_prod={\"Tornillo\":[1.2,200],\n",
    "          \"Tuerca\":[1.6,300],\n",
    "          \"Arandela\":[0.9,500]}\n",
    "dic_prod.keys()\n",
    "dic_prod.values()\n",
    "dic_prod.items()\n",
    "valores=dic_prod.get(\"Tuerca\")\n",
    "precio=valores[0]\n",
    "print(precio)"
   ]
  },
  {
   "cell_type": "markdown",
   "metadata": {},
   "source": [
    "2.1 Datos complejos\n",
    "\tCrear una lista de diccionarios que represente información de libros (título, autor, año de publicación).\n",
    "\tCrear un diccionario que contenga listas como valores (por ejemplo, un diccionario de estudiantes y sus materias).\n",
    "\tMostrar cómo modificar un valor en una lista dentro de un diccionario y viceversa.\n"
   ]
  },
  {
   "cell_type": "code",
   "execution_count": 58,
   "metadata": {},
   "outputs": [],
   "source": [
    "libros=[{\"lib_1\":[\"Titulo_1\",\"Autor_1\",2020]},\n",
    "        {\"lib_2\":[\"Titulo_2\",\"Autor_2\",2003]},\n",
    "        {\"lib_3\":[\"Titulo_3\",\"Autor_3\",1995]}]"
   ]
  },
  {
   "cell_type": "code",
   "execution_count": 52,
   "metadata": {},
   "outputs": [
    {
     "name": "stdout",
     "output_type": "stream",
     "text": [
      "['Quimica', 'Etica', 'Lengua']\n"
     ]
    }
   ],
   "source": [
    "materia_x_estudiante={\n",
    "    \"Pedro\":[\"Estadistica\",\"Matematica I\",\"Sociales\"],\n",
    "    \"Juan\":[\"Filosofia\",\"Etica\",\"Lengua\"],\n",
    "    \"Ana\":[\"Porgramacion I\",\"Logica\",\"Ingles\"]\n",
    "             }\n",
    "materia_x_estudiante[\"Juan\"][0]=\"Quimica\"\n",
    "print(materia_x_estudiante[\"Juan\"])\n"
   ]
  },
  {
   "cell_type": "code",
   "execution_count": 59,
   "metadata": {},
   "outputs": [
    {
     "name": "stdout",
     "output_type": "stream",
     "text": [
      "{'lib_2': ['Titulo_2', 'Autor_2', 2003]}\n",
      "{'lib_33': ['Titulo_33', 'Autor_3', 2013]}\n"
     ]
    }
   ],
   "source": [
    "print(libros[1])\n",
    "libros[1]={\"lib_33\":[\"Titulo_33\",\"Autor_3\",2013]}\n",
    "print(libros[1])"
   ]
  }
 ],
 "metadata": {
  "kernelspec": {
   "display_name": "Python 3",
   "language": "python",
   "name": "python3"
  },
  "language_info": {
   "codemirror_mode": {
    "name": "ipython",
    "version": 3
   },
   "file_extension": ".py",
   "mimetype": "text/x-python",
   "name": "python",
   "nbconvert_exporter": "python",
   "pygments_lexer": "ipython3",
   "version": "3.11.5"
  }
 },
 "nbformat": 4,
 "nbformat_minor": 2
}
